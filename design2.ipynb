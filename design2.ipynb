{
 "cells": [
  {
   "cell_type": "code",
   "execution_count": 1,
   "id": "a1c86f20",
   "metadata": {},
   "outputs": [],
   "source": [
    "import turtle\n",
    "pen = turtle.Turtle()\n",
    "def curve():\n",
    "    for i in range(200):\n",
    "        pen.right(1)\n",
    "        pen.forward(1)\n",
    "def heart():\n",
    "    pen.fillcolor('red')\n",
    "    pen.begin_fill()\n",
    "    pen.left(140)\n",
    "    pen.forward(113)\n",
    "    curve()\n",
    "    pen.left(120)\n",
    "    curve()\n",
    "    pen.forward(112)\n",
    "    pen.end_fill()\n",
    "def txt():\n",
    "    pen.up()\n",
    "    pen.setpos(-68,95)\n",
    "    pen.down()\n",
    "    pen.color('lightgreen')\n",
    "    pen.write('I LOVE YOU',font =(\"verdana\",12,\"bold\"))\n",
    "heart()\n",
    "txt()\n",
    "pen.ht() \n",
    "    "
   ]
  },
  {
   "cell_type": "code",
   "execution_count": null,
   "id": "b9e45959",
   "metadata": {},
   "outputs": [],
   "source": []
  }
 ],
 "metadata": {
  "kernelspec": {
   "display_name": "Python 3 (ipykernel)",
   "language": "python",
   "name": "python3"
  },
  "language_info": {
   "codemirror_mode": {
    "name": "ipython",
    "version": 3
   },
   "file_extension": ".py",
   "mimetype": "text/x-python",
   "name": "python",
   "nbconvert_exporter": "python",
   "pygments_lexer": "ipython3",
   "version": "3.9.7"
  }
 },
 "nbformat": 4,
 "nbformat_minor": 5
}
